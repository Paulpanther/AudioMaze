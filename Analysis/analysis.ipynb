{
 "cells": [
  {
   "cell_type": "code",
   "execution_count": null,
   "metadata": {},
   "outputs": [],
   "source": [
    "# Python program to read\n",
    "# json file\n",
    "\n",
    "import \n",
    "\n",
    "\n",
    " \n",
    "# Opening JSON file\n"
   ]
  },
  {
   "cell_type": "code",
   "execution_count": 3,
   "metadata": {},
   "outputs": [
    {
     "name": "stdout",
     "output_type": "stream",
     "text": [
      "GameStartEvent\n",
      "1aaa [52.07130000000001, 52.49959999999999, 308.67499999999995, 16.525999999999954, 59.05579999999998, 67.923]\n"
     ]
    },
    {
     "data": {
      "text/plain": [
       "('1aaa',\n",
       " [52.07130000000001,\n",
       "  52.49959999999999,\n",
       "  308.67499999999995,\n",
       "  16.525999999999954,\n",
       "  59.05579999999998,\n",
       "  67.923])"
      ]
     },
     "execution_count": 3,
     "metadata": {},
     "output_type": "execute_result"
    }
   ],
   "source": [
    "import json\n",
    "file = open('2021-11-28-19-40-13.json')\n",
    "\n",
    "def leveltimes(file):\n",
    "    file = json.load(file)\n",
    "    i=0\n",
    "    lvlCode = None\n",
    "    levelLengths = []\n",
    "    start = 0\n",
    "    end = 0\n",
    "    ignore = False\n",
    "    for event in file:\n",
    "        i+=1\n",
    "        if(event[\"name\"]==\"GameStartEvent\"):\n",
    "            lvlCode = event[\"levelCode\"]\n",
    "            print(event[\"name\"])\n",
    "        if(event[\"name\"]==\"LevelChangedEvent\"):\n",
    "            start = event[\"createdAt\"]\n",
    "            if(event[\"levelName\"]==\"LevelTraining(Clone)\" or event[\"levelName\"]==\"Level1(Clone)\"):\n",
    "                ignore=True\n",
    "            \n",
    "        if(event[\"name\"]==\"LevelCompletedEvent\"):\n",
    "            end = event[\"createdAt\"]\n",
    "            if(not ignore):\n",
    "                levelLengths.append(end-start)\n",
    "            ignore = False\n",
    "            end = 0\n",
    "            start = 0\n",
    "        \n",
    "    if(lvlCode==None):\n",
    "        print(\"error no level code was found\")\n",
    "        return None\n",
    "    print(lvlCode,levelLengths)\n",
    "    return lvlCode,levelLengths\n",
    "\n",
    "leveltimes(file)"
   ]
  }
 ],
 "metadata": {
  "interpreter": {
   "hash": "2c3b6c56d26d7d22d8f0140f07961317be386ffe2494ca83cdbfc9f1fb8e124b"
  },
  "kernelspec": {
   "display_name": "Python 3.7.1 64-bit ('base': conda)",
   "language": "python",
   "name": "python3"
  },
  "language_info": {
   "codemirror_mode": {
    "name": "ipython",
    "version": 3
   },
   "file_extension": ".py",
   "mimetype": "text/x-python",
   "name": "python",
   "nbconvert_exporter": "python",
   "pygments_lexer": "ipython3",
   "version": "3.7.1"
  },
  "orig_nbformat": 4
 },
 "nbformat": 4,
 "nbformat_minor": 2
}

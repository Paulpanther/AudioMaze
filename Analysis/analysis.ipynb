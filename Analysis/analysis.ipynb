{
 "cells": [
  {
   "cell_type": "code",
   "execution_count": 6,
   "metadata": {},
   "outputs": [
    {
     "name": "stdout",
     "output_type": "stream",
     "text": [
      "['2021-09-06-13-05-12 - Martin Büßemeyer.json', '2021-09-06-15-15-57 - Tobias Markus.json', '2021-09-06-16-18-00 - Dominik Meier.json', '2021-09-06-17-11-22 - Joana Bergsiek.json', '2021-11-28-19-40-13 - William Lamm.json']\n"
     ]
    }
   ],
   "source": [
    "# Python program to read\n",
    "# json file\n",
    "\n",
    "import os, json\n",
    "import pandas as pd\n",
    "\n",
    "path_to_json = 'results/'\n",
    "json_files = [pos_json for pos_json in os.listdir(path_to_json) if pos_json.endswith('.json')]\n",
    "print(json_files)  # for me this prints ['foo.json']\n",
    "\n",
    "\n",
    "# Opening JSON file\n"
   ]
  },
  {
   "cell_type": "code",
   "execution_count": 7,
   "metadata": {},
   "outputs": [],
   "source": [
    "\n",
    "\n",
    "def leveltimes(file):\n",
    "    file = json.load(file)\n",
    "    i=0\n",
    "    lvlCode = None\n",
    "    levelLengths = []\n",
    "    start = 0\n",
    "    end = 0\n",
    "    ignore = False\n",
    "    for event in file:\n",
    "        i+=1\n",
    "        if(event[\"name\"]==\"GameStartEvent\"):\n",
    "            lvlCode = event[\"levelCode\"]\n",
    "            print(event[\"name\"])\n",
    "        if(event[\"name\"]==\"LevelChangedEvent\"):\n",
    "            start = event[\"createdAt\"]\n",
    "            if(event[\"levelName\"]==\"LevelTraining(Clone)\" or event[\"levelName\"]==\"Level1(Clone)\"):\n",
    "                ignore=True\n",
    "            \n",
    "        if(event[\"name\"]==\"LevelCompletedEvent\"):\n",
    "            end = event[\"createdAt\"]\n",
    "            if(not ignore):\n",
    "                levelLengths.append(end-start)\n",
    "            ignore = False\n",
    "            end = 0\n",
    "            start = 0\n",
    "    if(len(levelLengths)>6):\n",
    "        return \"error, list too long\"   \n",
    "    if(lvlCode==None):\n",
    "        print(\"error no level code was found\")\n",
    "        return None\n",
    "    print(lvlCode,levelLengths)\n",
    "    levelLengths.append(lvlCode)\n",
    "    return levelLengths\n",
    "\n",
    "#leveltimes(file)"
   ]
  },
  {
   "cell_type": "code",
   "execution_count": 8,
   "metadata": {},
   "outputs": [
    {
     "name": "stdout",
     "output_type": "stream",
     "text": [
      "GameStartEvent\n",
      "1aaa [175.1597, 78.6449, 66.07500000000005, 22.644999999999982, 191.68200000000002, 171.789]\n",
      "[175.1597, 78.6449, 66.07500000000005, 22.644999999999982, 191.68200000000002, 171.789, '1aaa']\n",
      "GameStartEvent\n",
      "2bbb [16.66149999999999, 86.19530000000003, 89.75999999999993, 20.865999999999985, 19.052999999999997, 62.266999999999825]\n",
      "[16.66149999999999, 86.19530000000003, 89.75999999999993, 20.865999999999985, 19.052999999999997, 62.266999999999825, '2bbb']\n",
      "GameStartEvent\n",
      "1bbb [73.42359999999996, 358.8229, 276.486, 89.21100000000001, 101.55300000000011, 45.92899999999986]\n",
      "[73.42359999999996, 358.8229, 276.486, 89.21100000000001, 101.55300000000011, 45.92899999999986, '1bbb']\n",
      "GameStartEvent\n",
      "2aaa [41.594799999999964, 34.315300000000036, 49.269499999999994, 48.49940000000004, 68.1413, 247.32049999999992]\n",
      "[41.594799999999964, 34.315300000000036, 49.269499999999994, 48.49940000000004, 68.1413, 247.32049999999992, '2aaa']\n",
      "GameStartEvent\n",
      "1aaa [52.07130000000001, 52.49959999999999, 308.67499999999995, 16.525999999999954, 59.05579999999998, 67.923]\n",
      "[52.07130000000001, 52.49959999999999, 308.67499999999995, 16.525999999999954, 59.05579999999998, 67.923, '1aaa']\n",
      "    Level_1   Level_2   Level_3  Level_4   Level_5   Level_6 Condition\n",
      "0  175.1597   78.6449   66.0750  22.6450  191.6820  171.7890      1aaa\n",
      "1   16.6615   86.1953   89.7600  20.8660   19.0530   62.2670      2bbb\n",
      "2   73.4236  358.8229  276.4860  89.2110  101.5530   45.9290      1bbb\n",
      "3   41.5948   34.3153   49.2695  48.4994   68.1413  247.3205      2aaa\n",
      "4   52.0713   52.4996  308.6750  16.5260   59.0558   67.9230      1aaa\n"
     ]
    }
   ],
   "source": [
    "import pandas as pd\n",
    "\n",
    "frame = pd.DataFrame(columns=[\"Level_1\",\"Level_2\",\"Level_3\",\"Level_4\",\"Level_5\",\"Level_6\",\"Condition\"])\n",
    "for i in json_files:\n",
    "    file = open(\"./results/\"+i)\n",
    "    lis = leveltimes(file)\n",
    "    print(lis)\n",
    "    ser = pd.Series(lis,index=frame.columns)\n",
    "    frame=frame.append(ser,ignore_index=True)\n",
    "\n",
    "print(frame)\n"
   ]
  },
  {
   "cell_type": "code",
   "execution_count": 9,
   "metadata": {},
   "outputs": [],
   "source": [
    "\n",
    "#Average Time per level\n",
    "\n",
    "#Average Time (Level 1-3) compared to (Level 4-6) (learning effect)\n",
    "\n",
    "#Average Time Condition 1 vs Condition 2"
   ]
  },
  {
   "cell_type": "code",
   "execution_count": 10,
   "metadata": {},
   "outputs": [
    {
     "name": "stdout",
     "output_type": "stream",
     "text": [
      "0    117.665933\n",
      "1     49.133800\n",
      "2    157.570917\n",
      "3     81.523467\n",
      "4     92.791783\n",
      "dtype: float64 0    28.825024\n",
      "1    14.088881\n",
      "2    52.280950\n",
      "3    33.477134\n",
      "4    43.764607\n",
      "dtype: float64\n"
     ]
    },
    {
     "data": {
      "image/png": "[encoded data removed]",
      "text/plain": [
       "<Figure size 432x288 with 1 Axes>"
      ]
     },
     "metadata": {
      "needs_background": "light"
     },
     "output_type": "display_data"
    },
    {
     "data": {
      "text/plain": [
       "<Figure size 432x288 with 0 Axes>"
      ]
     },
     "metadata": {},
     "output_type": "display_data"
    }
   ],
   "source": [
    "import matplotlib.pyplot as plt\n",
    "import numpy as np\n",
    "#Average Time per user, pd mean on a row\n",
    "\n",
    "row_averages=frame.mean(axis=1)\n",
    "row_errors=frame.sem(axis=1)\n",
    "print(row_averages,row_errors)\n",
    "\n",
    "\n",
    "plt.bar(list(range(len(frame))),row_averages,yerr=row_errors,alpha=0.5,align=\"center\")\n",
    "plt.title(\"Average completion time per user per level\")\n",
    "plt.xlabel(\"Users\")\n",
    "plt.ylabel(\"Average time per level\")\n",
    "plt.show()\n",
    "plt.savefig(\"av_per_users.png\")\n"
   ]
  },
  {
   "cell_type": "code",
   "execution_count": 11,
   "metadata": {},
   "outputs": [
    {
     "name": "stdout",
     "output_type": "stream",
     "text": [
      "[71.78217999999998, 122.09559999999999, 158.0531, 39.549479999999996, 87.89702000000003, 119.04569999999993] [27.411395409818162, 59.90225109290969, 55.529766152127806, 13.622191705096514, 29.085573225336308, 38.99979683139389]\n"
     ]
    },
    {
     "data": {
      "image/png": "[encoded data removed]",
      "text/plain": [
       "<Figure size 432x288 with 1 Axes>"
      ]
     },
     "metadata": {
      "needs_background": "light"
     },
     "output_type": "display_data"
    },
    {
     "data": {
      "image/png": "[encoded data removed]",
      "text/plain": [
       "<Figure size 432x288 with 1 Axes>"
      ]
     },
     "metadata": {
      "needs_background": "light"
     },
     "output_type": "display_data"
    }
   ],
   "source": [
    "import matplotlib.pyplot as plt\n",
    "import numpy as np\n",
    "#Average Time per user, pd mean on a row\n",
    "\n",
    "row_averages=frame.mean(axis=0).to_list()\n",
    "row_errors=frame.sem(axis=0).to_list()\n",
    "print(row_averages,row_errors)\n",
    "\n",
    "\n",
    "plt.bar(list(range(len(frame.columns)-1)),row_averages,yerr=row_errors,alpha=0.5,align=\"center\")\n",
    "plt.title(\"Average time per level\")\n",
    "plt.xlabel(\"Level\")\n",
    "plt.ylabel(\"Average time\")\n",
    "plt.savefig(\"av_per_lvl.png\")\n",
    "plt.show()\n"
   ]
  },
  {
   "cell_type": "code",
   "execution_count": 12,
   "metadata": {},
   "outputs": [
    {
     "data": {
      "image/png": "[encoded data removed]",
      "text/plain": [
       "<Figure size 432x288 with 1 Axes>"
      ]
     },
     "metadata": {
      "needs_background": "light"
     },
     "output_type": "display_data"
    },
    {
     "data": {
      "image/png": "[encoded data removed]",
      "text/plain": [
       "<Figure size 432x288 with 1 Axes>"
      ]
     },
     "metadata": {
      "needs_background": "light"
     },
     "output_type": "display_data"
    }
   ],
   "source": [
    "\n",
    "#LEARNING EFFECT mean mean learning effect\n",
    "r1=frame.iloc[:,0:3].mean().mean()\n",
    "r2=frame.iloc[:,3:-1].mean().mean()\n",
    "\n",
    "r = [r1,r2]\n",
    "plt.bar(list(range(2)),r,alpha=0.5,align=\"center\")\n",
    "plt.title(\"Average time of first-half level vs second-half level\")\n",
    "plt.xlabel(\"Half\")\n",
    "plt.ylabel(\"Average time\")\n",
    "plt.savefig(\"learning.png\")\n",
    "plt.show()\n"
   ]
  },
  {
   "cell_type": "markdown",
   "metadata": {},
   "source": []
  }
 ],
 "metadata": {
  "interpreter": {
   "hash": "2c3b6c56d26d7d22d8f0140f07961317be386ffe2494ca83cdbfc9f1fb8e124b"
  },
  "kernelspec": {
   "display_name": "Python 3.7.1 64-bit ('base': conda)",
   "language": "python",
   "name": "python3"
  },
  "language_info": {
   "codemirror_mode": {
    "name": "ipython",
    "version": 3
   },
   "file_extension": ".py",
   "mimetype": "text/x-python",
   "name": "python",
   "nbconvert_exporter": "python",
   "pygments_lexer": "ipython3",
   "version": "3.7.1"
  },
  "orig_nbformat": 4
 },
 "nbformat": 4,
 "nbformat_minor": 2
}

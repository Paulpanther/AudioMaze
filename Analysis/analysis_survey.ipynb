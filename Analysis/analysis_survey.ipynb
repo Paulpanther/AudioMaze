{
 "cells": [
  {
   "cell_type": "code",
   "execution_count": 49,
   "metadata": {},
   "outputs": [
    {
     "name": "stdout",
     "output_type": "stream",
     "text": [
      "['2021-09-06-13-05-12 - Martin Büßemeyer.json', '2021-09-06-15-15-57 - Tobias Markus.json', '2021-09-06-16-18-00 - Dominik Meier.json', '2021-09-06-17-11-22 - Joana Bergsiek.json', '2021-11-28-19-40-13 - William Lamm.json']\n"
     ]
    }
   ],
   "source": [
    "# Python program to read\n",
    "# json file\n",
    "\n",
    "import os, json\n",
    "import pandas as pd\n",
    "\n",
    "path_to_json = 'results/'\n",
    "json_files = [pos_json for pos_json in os.listdir(path_to_json) if pos_json.endswith('.json')]\n",
    "print(json_files)  # for me this prints ['foo.json']\n",
    "\n",
    "\n",
    "# Opening JSON file\n"
   ]
  },
  {
   "cell_type": "code",
   "execution_count": 50,
   "metadata": {},
   "outputs": [],
   "source": [
    "\n",
    "\n",
    "def leveltimes(file):\n",
    "    file = json.load(file)\n",
    "    i=0\n",
    "    lvlCode = None\n",
    "    levelLengths = {}\n",
    "    nLevels=0\n",
    "    start = 0\n",
    "    end = 0\n",
    "    ignore = False\n",
    "    levelname = \"\"\n",
    "    scenario = \"\"\n",
    "\n",
    "    for event in file:\n",
    "        i+=1\n",
    "        if(event[\"name\"]==\"GameStartEvent\"):\n",
    "            lvlCode = event[\"levelCode\"]\n",
    "        if(event[\"name\"]==\"LevelChangedEvent\"):\n",
    "            start = event[\"createdAt\"]\n",
    "            if(event[\"levelName\"]==\"LevelTraining(Clone)\" or event[\"levelName\"]==\"Level1(Clone)\"):\n",
    "                ignore=True\n",
    "            else:\n",
    "                if lvlCode.startswith(\"1\") and nLevels<3 or lvlCode.startswith(\"2\") and nLevels>=3:\n",
    "                    scenario=\"1\"\n",
    "                else:\n",
    "                    scenario = \"0\"\n",
    "                levelname=event[\"levelName\"][5:7]+\"_\"+scenario\n",
    "\n",
    "        if(event[\"name\"]==\"LevelCompletedEvent\"):\n",
    "            end = event[\"createdAt\"]\n",
    "            \n",
    "        if(event[\"name\"]==\"SurveySubmittedEvent\"):\n",
    "            selection=event[\"selectedLevelImage\"]\n",
    "            confidence=event[\"selectedConfidence\"]\n",
    "            if(not ignore):\n",
    "                levelLengths.update({levelname:((end-start),selection,confidence)})\n",
    "                nLevels+=1\n",
    "            ignore = False\n",
    "            end = 0\n",
    "            start = 0\n",
    "            \n",
    "    if(len(levelLengths)>6):\n",
    "        return \"error, list too long\"   \n",
    "    if(lvlCode==None):\n",
    "        print(\"error no level code was found\")\n",
    "        return None\n",
    "    print(lvlCode,levelLengths)\n",
    "    levelLengths.update({\"condition\":lvlCode})\n",
    "    return levelLengths\n",
    "#leveltimes(file)"
   ]
  },
  {
   "cell_type": "code",
   "execution_count": 51,
   "metadata": {},
   "outputs": [
    {
     "name": "stdout",
     "output_type": "stream",
     "text": [
      "1aaa {'2A_1': (175.1597, 'C', 4), '3A_1': (78.6449, 'A', 3), '4A_1': (66.07500000000005, 'B', 2), '2B_0': (22.644999999999982, 'C', 2), '3B_0': (191.68200000000002, 'A', 2), '4B_0': (171.789, 'B', 3)}\n",
      "2bbb {'2B_0': (16.66149999999999, 'A', 1), '3B_0': (86.19530000000003, 'A', 3), '4B_0': (89.75999999999993, 'A', 4), '2A_1': (20.865999999999985, 'A', 1), '3A_1': (19.052999999999997, 'A', 1), '4A_1': (62.266999999999825, 'A', 3)}\n",
      "1bbb {'2B_1': (73.42359999999996, 'A', 1), '3B_1': (358.8229, 'A', 4), '4B_1': (276.486, 'A', 2), '2A_0': (89.21100000000001, 'A', 2), '3A_0': (101.55300000000011, 'A', 1), '4A_0': (45.92899999999986, 'A', 1)}\n",
      "2aaa {'2A_0': (41.594799999999964, 'A', 1), '3A_0': (34.315300000000036, 'C', 3), '4A_0': (49.269499999999994, 'B', 4), '2B_1': (48.49940000000004, 'A', 1), '3B_1': (68.1413, 'C', 4), '4B_1': (247.32049999999992, 'A', 4)}\n",
      "1aaa {'2A_1': (52.07130000000001, 'A', 1), '3A_1': (52.49959999999999, 'A', 1), '4A_1': (308.67499999999995, 'C', 3), '2B_0': (16.525999999999954, 'A', 1), '3B_0': (59.05579999999998, 'A', 2), '4B_0': (67.923, 'A', 3)}\n",
      "                         2A_0                        2A_1  \\\n",
      "0                         NaN            (175.1597, C, 4)   \n",
      "0                         NaN  (20.865999999999985, A, 1)   \n",
      "0   (89.21100000000001, A, 2)                         NaN   \n",
      "0  (41.594799999999964, A, 1)                         NaN   \n",
      "0                         NaN   (52.07130000000001, A, 1)   \n",
      "\n",
      "                         2B_0                       2B_1  \\\n",
      "0  (22.644999999999982, C, 2)                        NaN   \n",
      "0   (16.66149999999999, A, 1)                        NaN   \n",
      "0                         NaN  (73.42359999999996, A, 1)   \n",
      "0                         NaN  (48.49940000000004, A, 1)   \n",
      "0  (16.525999999999954, A, 1)                        NaN   \n",
      "\n",
      "                         3A_0                        3A_1  \\\n",
      "0                         NaN             (78.6449, A, 3)   \n",
      "0                         NaN  (19.052999999999997, A, 1)   \n",
      "0  (101.55300000000011, A, 1)                         NaN   \n",
      "0  (34.315300000000036, C, 3)                         NaN   \n",
      "0                         NaN   (52.49959999999999, A, 1)   \n",
      "\n",
      "                         3B_0              3B_1                        4A_0  \\\n",
      "0  (191.68200000000002, A, 2)               NaN                         NaN   \n",
      "0   (86.19530000000003, A, 3)               NaN                         NaN   \n",
      "0                         NaN  (358.8229, A, 4)   (45.92899999999986, A, 1)   \n",
      "0                         NaN   (68.1413, C, 4)  (49.269499999999994, B, 4)   \n",
      "0   (59.05579999999998, A, 2)               NaN                         NaN   \n",
      "\n",
      "                         4A_1                       4B_0  \\\n",
      "0   (66.07500000000005, B, 2)            (171.789, B, 3)   \n",
      "0  (62.266999999999825, A, 3)  (89.75999999999993, A, 4)   \n",
      "0                         NaN                        NaN   \n",
      "0                         NaN                        NaN   \n",
      "0  (308.67499999999995, C, 3)             (67.923, A, 3)   \n",
      "\n",
      "                         4B_1 condition  \n",
      "0                         NaN      1aaa  \n",
      "0                         NaN      2bbb  \n",
      "0             (276.486, A, 2)      1bbb  \n",
      "0  (247.32049999999992, A, 4)      2aaa  \n",
      "0                         NaN      1aaa  \n"
     ]
    }
   ],
   "source": [
    "import pandas as pd\n",
    "\n",
    "frame = pd.DataFrame()\n",
    "for i in json_files:\n",
    "    file = open(\"./results/\"+i)\n",
    "    lis = leveltimes(file)\n",
    "    nframe = pd.DataFrame([lis])\n",
    "    frame=frame.append(nframe)\n",
    "frame=frame.sort_index(axis=1)\n",
    "print(frame)\n"
   ]
  },
  {
   "cell_type": "code",
   "execution_count": null,
   "metadata": {},
   "outputs": [],
   "source": []
  },
  {
   "cell_type": "code",
   "execution_count": 52,
   "metadata": {},
   "outputs": [
    {
     "data": {
      "image/png": "[encoded data removed]",
      "text/plain": [
       "<Figure size 432x288 with 1 Axes>"
      ]
     },
     "metadata": {
      "needs_background": "light"
     },
     "output_type": "display_data"
    },
    {
     "data": {
      "image/png": "[encoded data removed]",
      "text/plain": [
       "<Figure size 432x288 with 1 Axes>"
      ]
     },
     "metadata": {
      "needs_background": "light"
     },
     "output_type": "display_data"
    },
    {
     "data": {
      "text/plain": [
       "<Figure size 432x288 with 0 Axes>"
      ]
     },
     "metadata": {},
     "output_type": "display_data"
    }
   ],
   "source": [
    "#Confidence By Condition\n",
    "import numpy as np\n",
    "import matplotlib.pyplot as plt\n",
    "condition1=[x for x in frame.columns.to_list() if x.endswith(\"0\")]\n",
    "condition2=[x for x in frame.columns.to_list() if x.endswith(\"1\")]\n",
    "\n",
    "#list of confidences condition1, condition2 conf = []\n",
    "conf1 = []\n",
    "conf2 = []\n",
    "confPerLevel = []\n",
    "sel1 = []\n",
    "sel2 = []\n",
    "\n",
    "for i in range(0,len(frame)):\n",
    "    row = frame.iloc[i]\n",
    "    cpl = []\n",
    "    for x in range(0,len(row)):\n",
    "        if(type(row[x]) is tuple):\n",
    "            if(row.index[x].endswith(\"0\")):\n",
    "                conf1.append(row[x][2])\n",
    "                sel1.append(row[x][1]==\"A\")\n",
    "            else:\n",
    "                conf2.append(row[x][2])\n",
    "                sel2.append(row[x][1]==\"A\")\n",
    "            cpl.append(row[x][2])\n",
    "    confPerLevel.append(np.mean(cpl))\n",
    "    \n",
    "                \n",
    "\n",
    "\n",
    "\n",
    "\n",
    "values1 = np.mean(conf1)\n",
    "values2 = np.mean(conf2)\n",
    "\n",
    "acc1 = np.mean(sel1)\n",
    "acc2 = np.mean(sel2)\n",
    "plt.bar([\"Condition 1\",\"Condition 2\"],[acc1,acc2],alpha=0.5,align=\"center\")\n",
    "plt.xticks(rotation=30)\n",
    "plt.show()\n",
    "plt.savefig(\"confidence_by_condition.png\")\n",
    "\n",
    "\n",
    "values1 = np.mean(conf1)\n",
    "values2 = np.mean(conf2)\n",
    "\n",
    "plt.bar([\"Condition 1\",\"Condition 2\"],[values1,values2],alpha=0.5,align=\"center\")\n",
    "plt.xticks(rotation=30)\n",
    "plt.show()\n",
    "plt.savefig(\"accuracy_by_condition.png\")\n"
   ]
  },
  {
   "cell_type": "code",
   "execution_count": 53,
   "metadata": {},
   "outputs": [
    {
     "ename": "SyntaxError",
     "evalue": "invalid syntax (<ipython-input-53-5bf00b49fa35>, line 2)",
     "output_type": "error",
     "traceback": [
      "\u001b[1;36m  File \u001b[1;32m\"<ipython-input-53-5bf00b49fa35>\"\u001b[1;36m, line \u001b[1;32m2\u001b[0m\n\u001b[1;33m    plt.bar(frame.columns[],confPerLevel,alpha=0.5,align=\"center\")\u001b[0m\n\u001b[1;37m                          ^\u001b[0m\n\u001b[1;31mSyntaxError\u001b[0m\u001b[1;31m:\u001b[0m invalid syntax\n"
     ]
    }
   ],
   "source": [
    "print(confPerLevel)\n",
    "plt.bar(frame.columns[],confPerLevel,alpha=0.5,align=\"center\")\n",
    "plt.xticks(rotation=30)\n",
    "plt.show()\n",
    "plt.savefig(\"confidence_by_condition.png\")"
   ]
  },
  {
   "cell_type": "markdown",
   "metadata": {},
   "source": []
  }
 ],
 "metadata": {
  "interpreter": {
   "hash": "2c3b6c56d26d7d22d8f0140f07961317be386ffe2494ca83cdbfc9f1fb8e124b"
  },
  "kernelspec": {
   "display_name": "Python 3.7.1 64-bit ('base': conda)",
   "language": "python",
   "name": "python3"
  },
  "language_info": {
   "codemirror_mode": {
    "name": "ipython",
    "version": 3
   },
   "file_extension": ".py",
   "mimetype": "text/x-python",
   "name": "python",
   "nbconvert_exporter": "python",
   "pygments_lexer": "ipython3",
   "version": "3.7.1"
  },
  "orig_nbformat": 4
 },
 "nbformat": 4,
 "nbformat_minor": 2
}

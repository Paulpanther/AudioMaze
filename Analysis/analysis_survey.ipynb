{
 "cells": [
  {
   "cell_type": "code",
   "execution_count": null,
   "metadata": {},
   "outputs": [
    {
     "name": "stdout",
     "output_type": "stream",
     "text": [
      "['2021-09-06-13-05-12 - Martin Büßemeyer.json', '2021-09-06-15-15-57 - Tobias Markus.json', '2021-09-06-16-18-00 - Dominik Meier.json', '2021-09-06-17-11-22 - Joana Bergsiek.json', '2021-11-28-19-40-13 - William Lamm.json']\n"
     ]
    }
   ],
   "source": [
    "# Python program to read\n",
    "# json file\n",
    "\n",
    "import os, json\n",
    "import pandas as pd\n",
    "\n",
    "path_to_json = 'results/'\n",
    "json_files = [pos_json for pos_json in os.listdir(path_to_json) if pos_json.endswith('.json')]\n",
    "print(json_files)  # for me this prints ['foo.json']\n",
    "\n",
    "\n",
    "# Opening JSON file\n"
   ]
  },
  {
   "cell_type": "code",
   "execution_count": null,
   "metadata": {},
   "outputs": [],
   "source": [
    "\n",
    "\n",
    "def leveltimes(file):\n",
    "    file = json.load(file)\n",
    "    i=0\n",
    "    lvlCode = None\n",
    "    levelLengths = {}\n",
    "    nLevels=0\n",
    "    start = 0\n",
    "    end = 0\n",
    "    ignore = False\n",
    "    levelname = \"\"\n",
    "    scenario = \"\"\n",
    "\n",
    "    for event in file:\n",
    "        i+=1\n",
    "        if(event[\"name\"]==\"GameStartEvent\"):\n",
    "            lvlCode = event[\"levelCode\"]\n",
    "        if(event[\"name\"]==\"LevelChangedEvent\"):\n",
    "            start = event[\"createdAt\"]\n",
    "            if(event[\"levelName\"]==\"LevelTraining(Clone)\" or event[\"levelName\"]==\"Level1(Clone)\"):\n",
    "                ignore=True\n",
    "            else:\n",
    "                if lvlCode.startswith(\"1\") and nLevels<3 or lvlCode.startswith(\"2\") and nLevels>=3:\n",
    "                    scenario=\"1\"\n",
    "                else:\n",
    "                    scenario = \"0\"\n",
    "                levelname=event[\"levelName\"][5:7]+\"_\"+scenario\n",
    "\n",
    "        if(event[\"name\"]==\"LevelCompletedEvent\"):\n",
    "            end = event[\"createdAt\"]\n",
    "            \n",
    "        if(event[\"name\"]==\"SurveySubmittedEvent\"):\n",
    "            selection=event[\"selectedLevelImage\"]\n",
    "            confidence=event[\"selectedConfidence\"]\n",
    "            if(not ignore):\n",
    "                levelLengths.update({levelname:((end-start),selection,confidence)})\n",
    "                nLevels+=1\n",
    "            ignore = False\n",
    "            end = 0\n",
    "            start = 0\n",
    "            \n",
    "    if(len(levelLengths)>6):\n",
    "        return \"error, list too long\"   \n",
    "    if(lvlCode==None):\n",
    "        print(\"error no level code was found\")\n",
    "        return None\n",
    "    print(lvlCode,levelLengths)\n",
    "    levelLengths.update({\"condition\":lvlCode})\n",
    "    return levelLengths\n",
    "#leveltimes(file)"
   ]
  },
  {
   "cell_type": "code",
   "execution_count": 4,
   "metadata": {},
   "outputs": [
    {
     "name": "stdout",
     "output_type": "stream",
     "text": [
      "1aaa {'2A_1': (175.1597, 'C', 4), '3A_1': (78.6449, 'A', 3), '4A_1': (66.07500000000005, 'B', 2), '2B_0': (22.644999999999982, 'C', 2), '3B_0': (191.68200000000002, 'A', 2), '4B_0': (171.789, 'B', 3)}\n",
      "2bbb {'2B_0': (16.66149999999999, 'A', 1), '3B_0': (86.19530000000003, 'A', 3), '4B_0': (89.75999999999993, 'A', 4), '2A_1': (20.865999999999985, 'A', 1), '3A_1': (19.052999999999997, 'A', 1), '4A_1': (62.266999999999825, 'A', 3)}\n",
      "1bbb {'2B_1': (73.42359999999996, 'A', 1), '3B_1': (358.8229, 'A', 4), '4B_1': (276.486, 'A', 2), '2A_0': (89.21100000000001, 'A', 2), '3A_0': (101.55300000000011, 'A', 1), '4A_0': (45.92899999999986, 'A', 1)}\n",
      "2aaa {'2A_0': (41.594799999999964, 'A', 1), '3A_0': (34.315300000000036, 'C', 3), '4A_0': (49.269499999999994, 'B', 4), '2B_1': (48.49940000000004, 'A', 1), '3B_1': (68.1413, 'C', 4), '4B_1': (247.32049999999992, 'A', 4)}\n",
      "1aaa {'2A_1': (52.07130000000001, 'A', 1), '3A_1': (52.49959999999999, 'A', 1), '4A_1': (308.67499999999995, 'C', 3), '2B_0': (16.525999999999954, 'A', 1), '3B_0': (59.05579999999998, 'A', 2), '4B_0': (67.923, 'A', 3)}\n",
      "                         2A_0                        2A_1  \\\n",
      "0                         NaN            (175.1597, C, 4)   \n",
      "0                         NaN  (20.865999999999985, A, 1)   \n",
      "0   (89.21100000000001, A, 2)                         NaN   \n",
      "0  (41.594799999999964, A, 1)                         NaN   \n",
      "0                         NaN   (52.07130000000001, A, 1)   \n",
      "\n",
      "                         2B_0                       2B_1  \\\n",
      "0  (22.644999999999982, C, 2)                        NaN   \n",
      "0   (16.66149999999999, A, 1)                        NaN   \n",
      "0                         NaN  (73.42359999999996, A, 1)   \n",
      "0                         NaN  (48.49940000000004, A, 1)   \n",
      "0  (16.525999999999954, A, 1)                        NaN   \n",
      "\n",
      "                         3A_0                        3A_1  \\\n",
      "0                         NaN             (78.6449, A, 3)   \n",
      "0                         NaN  (19.052999999999997, A, 1)   \n",
      "0  (101.55300000000011, A, 1)                         NaN   \n",
      "0  (34.315300000000036, C, 3)                         NaN   \n",
      "0                         NaN   (52.49959999999999, A, 1)   \n",
      "\n",
      "                         3B_0              3B_1                        4A_0  \\\n",
      "0  (191.68200000000002, A, 2)               NaN                         NaN   \n",
      "0   (86.19530000000003, A, 3)               NaN                         NaN   \n",
      "0                         NaN  (358.8229, A, 4)   (45.92899999999986, A, 1)   \n",
      "0                         NaN   (68.1413, C, 4)  (49.269499999999994, B, 4)   \n",
      "0   (59.05579999999998, A, 2)               NaN                         NaN   \n",
      "\n",
      "                         4A_1                       4B_0  \\\n",
      "0   (66.07500000000005, B, 2)            (171.789, B, 3)   \n",
      "0  (62.266999999999825, A, 3)  (89.75999999999993, A, 4)   \n",
      "0                         NaN                        NaN   \n",
      "0                         NaN                        NaN   \n",
      "0  (308.67499999999995, C, 3)             (67.923, A, 3)   \n",
      "\n",
      "                         4B_1 condition  \n",
      "0                         NaN      1aaa  \n",
      "0                         NaN      2bbb  \n",
      "0             (276.486, A, 2)      1bbb  \n",
      "0  (247.32049999999992, A, 4)      2aaa  \n",
      "0                         NaN      1aaa  \n"
     ]
    }
   ],
   "source": [
    "import pandas as pd\n",
    "\n",
    "frame = pd.DataFrame()\n",
    "for i in json_files:\n",
    "    file = open(\"./results/\"+i)\n",
    "    lis = leveltimes(file)\n",
    "    nframe = pd.DataFrame([lis])\n",
    "    frame=frame.append(nframe)\n",
    "frame=frame.sort_index(axis=1)\n",
    "print(frame)\n"
   ]
  },
  {
   "cell_type": "code",
   "execution_count": null,
   "metadata": {},
   "outputs": [],
   "source": []
  },
  {
   "cell_type": "code",
   "execution_count": 5,
   "metadata": {},
   "outputs": [
    {
     "data": {
      "image/png": "[encoded data removed]",
      "text/plain": [
       "<Figure size 432x288 with 1 Axes>"
      ]
     },
     "metadata": {
      "needs_background": "light"
     },
     "output_type": "display_data"
    },
    {
     "data": {
      "image/png": "[encoded data removed]",
      "text/plain": [
       "<Figure size 432x288 with 1 Axes>"
      ]
     },
     "metadata": {
      "needs_background": "light"
     },
     "output_type": "display_data"
    },
    {
     "data": {
      "text/plain": [
       "<Figure size 432x288 with 0 Axes>"
      ]
     },
     "metadata": {},
     "output_type": "display_data"
    }
   ],
   "source": [
    "#Confidence By Condition\n",
    "import numpy as np\n",
    "import matplotlib.pyplot as plt\n",
    "condition1=[x for x in frame.columns.to_list() if x.endswith(\"0\")]\n",
    "condition2=[x for x in frame.columns.to_list() if x.endswith(\"1\")]\n",
    "\n",
    "#list of confidences condition1, condition2 conf = []\n",
    "conf1 = []\n",
    "conf2 = []\n",
    "confPerLevel = []\n",
    "sel1 = []\n",
    "sel2 = []\n",
    "\n",
    "for i in range(0,len(frame)):\n",
    "    row = frame.iloc[i]\n",
    "    cpl = []\n",
    "    for x in range(0,len(row)):\n",
    "        if(type(row[x]) is tuple):\n",
    "            if(row.index[x].endswith(\"0\")):\n",
    "                conf1.append(row[x][2])\n",
    "                sel1.append(row[x][1]==\"A\")\n",
    "            else:\n",
    "                conf2.append(row[x][2])\n",
    "                sel2.append(row[x][1]==\"A\")\n",
    "            cpl.append(row[x][2])\n",
    "    confPerLevel.append(np.mean(cpl))\n",
    "    \n",
    "                \n",
    "\n",
    "\n",
    "\n",
    "\n",
    "values1 = np.mean(conf1)\n",
    "values2 = np.mean(conf2)\n",
    "\n",
    "acc1 = np.mean(sel1)\n",
    "acc2 = np.mean(sel2)\n",
    "plt.bar([\"Condition 1\",\"Condition 2\"],[acc1,acc2],alpha=0.5,align=\"center\")\n",
    "plt.xticks(rotation=30)\n",
    "plt.show()\n",
    "plt.savefig(\"confidence_by_condition.png\")\n",
    "\n",
    "\n",
    "values1 = np.mean(conf1)\n",
    "values2 = np.mean(conf2)\n",
    "\n",
    "plt.bar([\"Condition 1\",\"Condition 2\"],[values1,values2],alpha=0.5,align=\"center\")\n",
    "plt.xticks(rotation=30)\n",
    "plt.title(\"Level Selection Accuracy By Condition\")\n",
    "plt.xlabel(\"Condition\")\n",
    "plt.ylabel(\"Accuracy\")\n",
    "plt.show()\n",
    "plt.savefig(\"accuracy_by_condition.png\")\n"
   ]
  },
  {
   "cell_type": "code",
   "execution_count": 10,
   "metadata": {},
   "outputs": [
    {
     "name": "stdout",
     "output_type": "stream",
     "text": [
      "[2.6666666666666665, 2.1666666666666665, 1.8333333333333333, 2.8333333333333335, 1.8333333333333333] Index(['2A_0', '2A_1', '2B_0', '2B_1', '3A_0', '3A_1', '3B_0', '3B_1', '4A_0',\n",
      "       '4A_1', '4B_0', '4B_1', 'condition'],\n",
      "      dtype='object')\n"
     ]
    },
    {
     "ename": "ValueError",
     "evalue": "shape mismatch: objects cannot be broadcast to a single shape",
     "output_type": "error",
     "traceback": [
      "\u001b[1;31m---------------------------------------------------------------------------\u001b[0m",
      "\u001b[1;31mValueError\u001b[0m                                Traceback (most recent call last)",
      "\u001b[1;32m<ipython-input-10-9672a9a3059f>\u001b[0m in \u001b[0;36m<module>\u001b[1;34m\u001b[0m\n\u001b[0;32m      1\u001b[0m \u001b[0mprint\u001b[0m\u001b[1;33m(\u001b[0m\u001b[0mconfPerLevel\u001b[0m\u001b[1;33m,\u001b[0m\u001b[0mframe\u001b[0m\u001b[1;33m.\u001b[0m\u001b[0mcolumns\u001b[0m\u001b[1;33m)\u001b[0m\u001b[1;33m\u001b[0m\u001b[1;33m\u001b[0m\u001b[0m\n\u001b[1;32m----> 2\u001b[1;33m \u001b[0mplt\u001b[0m\u001b[1;33m.\u001b[0m\u001b[0mbar\u001b[0m\u001b[1;33m(\u001b[0m\u001b[0mframe\u001b[0m\u001b[1;33m.\u001b[0m\u001b[0mcolumns\u001b[0m\u001b[1;33m,\u001b[0m\u001b[0mconfPerLevel\u001b[0m\u001b[1;33m,\u001b[0m\u001b[0malpha\u001b[0m\u001b[1;33m=\u001b[0m\u001b[1;36m0.5\u001b[0m\u001b[1;33m,\u001b[0m\u001b[0malign\u001b[0m\u001b[1;33m=\u001b[0m\u001b[1;34m\"center\"\u001b[0m\u001b[1;33m)\u001b[0m\u001b[1;33m\u001b[0m\u001b[1;33m\u001b[0m\u001b[0m\n\u001b[0m\u001b[0;32m      3\u001b[0m \u001b[0mplt\u001b[0m\u001b[1;33m.\u001b[0m\u001b[0mxticks\u001b[0m\u001b[1;33m(\u001b[0m\u001b[0mrotation\u001b[0m\u001b[1;33m=\u001b[0m\u001b[1;36m30\u001b[0m\u001b[1;33m)\u001b[0m\u001b[1;33m\u001b[0m\u001b[1;33m\u001b[0m\u001b[0m\n\u001b[0;32m      4\u001b[0m \u001b[0mplt\u001b[0m\u001b[1;33m.\u001b[0m\u001b[0mshow\u001b[0m\u001b[1;33m(\u001b[0m\u001b[1;33m)\u001b[0m\u001b[1;33m\u001b[0m\u001b[1;33m\u001b[0m\u001b[0m\n\u001b[0;32m      5\u001b[0m \u001b[0mplt\u001b[0m\u001b[1;33m.\u001b[0m\u001b[0msavefig\u001b[0m\u001b[1;33m(\u001b[0m\u001b[1;34m\"confidence_by_condition.png\"\u001b[0m\u001b[1;33m)\u001b[0m\u001b[1;33m\u001b[0m\u001b[1;33m\u001b[0m\u001b[0m\n",
      "\u001b[1;32m~\\Anaconda3\\lib\\site-packages\\matplotlib\\pyplot.py\u001b[0m in \u001b[0;36mbar\u001b[1;34m(x, height, width, bottom, align, data, **kwargs)\u001b[0m\n\u001b[0;32m   2487\u001b[0m     return gca().bar(\n\u001b[0;32m   2488\u001b[0m         \u001b[0mx\u001b[0m\u001b[1;33m,\u001b[0m \u001b[0mheight\u001b[0m\u001b[1;33m,\u001b[0m \u001b[0mwidth\u001b[0m\u001b[1;33m=\u001b[0m\u001b[0mwidth\u001b[0m\u001b[1;33m,\u001b[0m \u001b[0mbottom\u001b[0m\u001b[1;33m=\u001b[0m\u001b[0mbottom\u001b[0m\u001b[1;33m,\u001b[0m \u001b[0malign\u001b[0m\u001b[1;33m=\u001b[0m\u001b[0malign\u001b[0m\u001b[1;33m,\u001b[0m\u001b[1;33m\u001b[0m\u001b[1;33m\u001b[0m\u001b[0m\n\u001b[1;32m-> 2489\u001b[1;33m         **({\"data\": data} if data is not None else {}), **kwargs)\n\u001b[0m\u001b[0;32m   2490\u001b[0m \u001b[1;33m\u001b[0m\u001b[0m\n\u001b[0;32m   2491\u001b[0m \u001b[1;33m\u001b[0m\u001b[0m\n",
      "\u001b[1;32m~\\Anaconda3\\lib\\site-packages\\matplotlib\\__init__.py\u001b[0m in \u001b[0;36minner\u001b[1;34m(ax, data, *args, **kwargs)\u001b[0m\n\u001b[0;32m   1445\u001b[0m     \u001b[1;32mdef\u001b[0m \u001b[0minner\u001b[0m\u001b[1;33m(\u001b[0m\u001b[0max\u001b[0m\u001b[1;33m,\u001b[0m \u001b[1;33m*\u001b[0m\u001b[0margs\u001b[0m\u001b[1;33m,\u001b[0m \u001b[0mdata\u001b[0m\u001b[1;33m=\u001b[0m\u001b[1;32mNone\u001b[0m\u001b[1;33m,\u001b[0m \u001b[1;33m**\u001b[0m\u001b[0mkwargs\u001b[0m\u001b[1;33m)\u001b[0m\u001b[1;33m:\u001b[0m\u001b[1;33m\u001b[0m\u001b[1;33m\u001b[0m\u001b[0m\n\u001b[0;32m   1446\u001b[0m         \u001b[1;32mif\u001b[0m \u001b[0mdata\u001b[0m \u001b[1;32mis\u001b[0m \u001b[1;32mNone\u001b[0m\u001b[1;33m:\u001b[0m\u001b[1;33m\u001b[0m\u001b[1;33m\u001b[0m\u001b[0m\n\u001b[1;32m-> 1447\u001b[1;33m             \u001b[1;32mreturn\u001b[0m \u001b[0mfunc\u001b[0m\u001b[1;33m(\u001b[0m\u001b[0max\u001b[0m\u001b[1;33m,\u001b[0m \u001b[1;33m*\u001b[0m\u001b[0mmap\u001b[0m\u001b[1;33m(\u001b[0m\u001b[0msanitize_sequence\u001b[0m\u001b[1;33m,\u001b[0m \u001b[0margs\u001b[0m\u001b[1;33m)\u001b[0m\u001b[1;33m,\u001b[0m \u001b[1;33m**\u001b[0m\u001b[0mkwargs\u001b[0m\u001b[1;33m)\u001b[0m\u001b[1;33m\u001b[0m\u001b[1;33m\u001b[0m\u001b[0m\n\u001b[0m\u001b[0;32m   1448\u001b[0m \u001b[1;33m\u001b[0m\u001b[0m\n\u001b[0;32m   1449\u001b[0m         \u001b[0mbound\u001b[0m \u001b[1;33m=\u001b[0m \u001b[0mnew_sig\u001b[0m\u001b[1;33m.\u001b[0m\u001b[0mbind\u001b[0m\u001b[1;33m(\u001b[0m\u001b[0max\u001b[0m\u001b[1;33m,\u001b[0m \u001b[1;33m*\u001b[0m\u001b[0margs\u001b[0m\u001b[1;33m,\u001b[0m \u001b[1;33m**\u001b[0m\u001b[0mkwargs\u001b[0m\u001b[1;33m)\u001b[0m\u001b[1;33m\u001b[0m\u001b[1;33m\u001b[0m\u001b[0m\n",
      "\u001b[1;32m~\\Anaconda3\\lib\\site-packages\\matplotlib\\axes\\_axes.py\u001b[0m in \u001b[0;36mbar\u001b[1;34m(self, x, height, width, bottom, align, **kwargs)\u001b[0m\n\u001b[0;32m   2430\u001b[0m         x, height, width, y, linewidth = np.broadcast_arrays(\n\u001b[0;32m   2431\u001b[0m             \u001b[1;31m# Make args iterable too.\u001b[0m\u001b[1;33m\u001b[0m\u001b[1;33m\u001b[0m\u001b[1;33m\u001b[0m\u001b[0m\n\u001b[1;32m-> 2432\u001b[1;33m             np.atleast_1d(x), height, width, y, linewidth)\n\u001b[0m\u001b[0;32m   2433\u001b[0m \u001b[1;33m\u001b[0m\u001b[0m\n\u001b[0;32m   2434\u001b[0m         \u001b[1;31m# Now that units have been converted, set the tick locations.\u001b[0m\u001b[1;33m\u001b[0m\u001b[1;33m\u001b[0m\u001b[1;33m\u001b[0m\u001b[0m\n",
      "\u001b[1;32m<__array_function__ internals>\u001b[0m in \u001b[0;36mbroadcast_arrays\u001b[1;34m(*args, **kwargs)\u001b[0m\n",
      "\u001b[1;32m~\\Anaconda3\\lib\\site-packages\\numpy\\lib\\stride_tricks.py\u001b[0m in \u001b[0;36mbroadcast_arrays\u001b[1;34m(subok, *args)\u001b[0m\n\u001b[0;32m    536\u001b[0m     \u001b[0margs\u001b[0m \u001b[1;33m=\u001b[0m \u001b[1;33m[\u001b[0m\u001b[0mnp\u001b[0m\u001b[1;33m.\u001b[0m\u001b[0marray\u001b[0m\u001b[1;33m(\u001b[0m\u001b[0m_m\u001b[0m\u001b[1;33m,\u001b[0m \u001b[0mcopy\u001b[0m\u001b[1;33m=\u001b[0m\u001b[1;32mFalse\u001b[0m\u001b[1;33m,\u001b[0m \u001b[0msubok\u001b[0m\u001b[1;33m=\u001b[0m\u001b[0msubok\u001b[0m\u001b[1;33m)\u001b[0m \u001b[1;32mfor\u001b[0m \u001b[0m_m\u001b[0m \u001b[1;32min\u001b[0m \u001b[0margs\u001b[0m\u001b[1;33m]\u001b[0m\u001b[1;33m\u001b[0m\u001b[1;33m\u001b[0m\u001b[0m\n\u001b[0;32m    537\u001b[0m \u001b[1;33m\u001b[0m\u001b[0m\n\u001b[1;32m--> 538\u001b[1;33m     \u001b[0mshape\u001b[0m \u001b[1;33m=\u001b[0m \u001b[0m_broadcast_shape\u001b[0m\u001b[1;33m(\u001b[0m\u001b[1;33m*\u001b[0m\u001b[0margs\u001b[0m\u001b[1;33m)\u001b[0m\u001b[1;33m\u001b[0m\u001b[1;33m\u001b[0m\u001b[0m\n\u001b[0m\u001b[0;32m    539\u001b[0m \u001b[1;33m\u001b[0m\u001b[0m\n\u001b[0;32m    540\u001b[0m     \u001b[1;32mif\u001b[0m \u001b[0mall\u001b[0m\u001b[1;33m(\u001b[0m\u001b[0marray\u001b[0m\u001b[1;33m.\u001b[0m\u001b[0mshape\u001b[0m \u001b[1;33m==\u001b[0m \u001b[0mshape\u001b[0m \u001b[1;32mfor\u001b[0m \u001b[0marray\u001b[0m \u001b[1;32min\u001b[0m \u001b[0margs\u001b[0m\u001b[1;33m)\u001b[0m\u001b[1;33m:\u001b[0m\u001b[1;33m\u001b[0m\u001b[1;33m\u001b[0m\u001b[0m\n",
      "\u001b[1;32m~\\Anaconda3\\lib\\site-packages\\numpy\\lib\\stride_tricks.py\u001b[0m in \u001b[0;36m_broadcast_shape\u001b[1;34m(*args)\u001b[0m\n\u001b[0;32m    418\u001b[0m     \u001b[1;31m# use the old-iterator because np.nditer does not handle size 0 arrays\u001b[0m\u001b[1;33m\u001b[0m\u001b[1;33m\u001b[0m\u001b[1;33m\u001b[0m\u001b[0m\n\u001b[0;32m    419\u001b[0m     \u001b[1;31m# consistently\u001b[0m\u001b[1;33m\u001b[0m\u001b[1;33m\u001b[0m\u001b[1;33m\u001b[0m\u001b[0m\n\u001b[1;32m--> 420\u001b[1;33m     \u001b[0mb\u001b[0m \u001b[1;33m=\u001b[0m \u001b[0mnp\u001b[0m\u001b[1;33m.\u001b[0m\u001b[0mbroadcast\u001b[0m\u001b[1;33m(\u001b[0m\u001b[1;33m*\u001b[0m\u001b[0margs\u001b[0m\u001b[1;33m[\u001b[0m\u001b[1;33m:\u001b[0m\u001b[1;36m32\u001b[0m\u001b[1;33m]\u001b[0m\u001b[1;33m)\u001b[0m\u001b[1;33m\u001b[0m\u001b[1;33m\u001b[0m\u001b[0m\n\u001b[0m\u001b[0;32m    421\u001b[0m     \u001b[1;31m# unfortunately, it cannot handle 32 or more arguments directly\u001b[0m\u001b[1;33m\u001b[0m\u001b[1;33m\u001b[0m\u001b[1;33m\u001b[0m\u001b[0m\n\u001b[0;32m    422\u001b[0m     \u001b[1;32mfor\u001b[0m \u001b[0mpos\u001b[0m \u001b[1;32min\u001b[0m \u001b[0mrange\u001b[0m\u001b[1;33m(\u001b[0m\u001b[1;36m32\u001b[0m\u001b[1;33m,\u001b[0m \u001b[0mlen\u001b[0m\u001b[1;33m(\u001b[0m\u001b[0margs\u001b[0m\u001b[1;33m)\u001b[0m\u001b[1;33m,\u001b[0m \u001b[1;36m31\u001b[0m\u001b[1;33m)\u001b[0m\u001b[1;33m:\u001b[0m\u001b[1;33m\u001b[0m\u001b[1;33m\u001b[0m\u001b[0m\n",
      "\u001b[1;31mValueError\u001b[0m: shape mismatch: objects cannot be broadcast to a single shape"
     ]
    },
    {
     "data": {
      "image/png": "[encoded data removed]",
      "text/plain": [
       "<Figure size 432x288 with 1 Axes>"
      ]
     },
     "metadata": {
      "needs_background": "light"
     },
     "output_type": "display_data"
    }
   ],
   "source": [
    "print(confPerLevel,frame.columns)\n",
    "plt.bar([\"Lvl1\",\"Lvl2\",\"Lvl3\",\"Lvl4\",\"Lvl5\"],confPerLevel,alpha=0.5,align=\"center\")\n",
    "plt.xticks(rotation=30)\n",
    "plt.title(\"Confidence per level\")\n",
    "plt.xlabel(\"Level\")\n",
    "plt.ylabel(\"Confidence\")\n",
    "plt.show()\n",
    "plt.savefig(\"confidence_by_condition.png\")"
   ]
  },
  {
   "cell_type": "code",
   "execution_count": 8,
   "metadata": {},
   "outputs": [
    {
     "name": "stdout",
     "output_type": "stream",
     "text": [
      "[2.6666666666666665, 2.1666666666666665, 1.8333333333333333, 2.8333333333333335, 1.8333333333333333]\n"
     ]
    }
   ],
   "source": [
    "print(confPerLevel)"
   ]
  },
  {
   "cell_type": "markdown",
   "metadata": {},
   "source": []
  }
 ],
 "metadata": {
  "interpreter": {
   "hash": "2c3b6c56d26d7d22d8f0140f07961317be386ffe2494ca83cdbfc9f1fb8e124b"
  },
  "kernelspec": {
   "display_name": "Python 3.7.1 64-bit ('base': conda)",
   "language": "python",
   "name": "python3"
  },
  "language_info": {
   "codemirror_mode": {
    "name": "ipython",
    "version": 3
   },
   "file_extension": ".py",
   "mimetype": "text/x-python",
   "name": "python",
   "nbconvert_exporter": "python",
   "pygments_lexer": "ipython3",
   "version": "3.7.1"
  },
  "orig_nbformat": 4
 },
 "nbformat": 4,
 "nbformat_minor": 2
}

{
 "cells": [
  {
   "cell_type": "code",
   "execution_count": 81,
   "metadata": {},
   "outputs": [
    {
     "name": "stdout",
     "output_type": "stream",
     "text": [
      "['2021-09-06-15-15-57 - Tobias Markus.json', '2021-09-06-16-18-00 - Dominik Meier.json', '2021-09-06-17-11-22 - Joana Bergsiek.json', '2021-11-28-19-40-13 - William Lamm.json']\n"
     ]
    }
   ],
   "source": [
    "# Python program to read\n",
    "# json file\n",
    "\n",
    "import os, json\n",
    "import pandas as pd\n",
    "\n",
    "path_to_json = 'results/'\n",
    "json_files = [pos_json for pos_json in os.listdir(path_to_json) if pos_json.endswith('.json')]\n",
    "print(json_files)  # for me this prints ['foo.json']\n",
    "\n",
    "\n",
    "# Opening JSON file\n"
   ]
  },
  {
   "cell_type": "code",
   "execution_count": 82,
   "metadata": {},
   "outputs": [],
   "source": [
    "\n",
    "\n",
    "def leveltimes(file):\n",
    "    file = json.load(file)\n",
    "    i=0\n",
    "    lvlCode = None\n",
    "    levelLengths = {}\n",
    "    nLevels=0\n",
    "    start = 0\n",
    "    end = 0\n",
    "    ignore = False\n",
    "    levelname = \"\"\n",
    "    scenario = \"\"\n",
    "    for event in file:\n",
    "        i+=1\n",
    "        if(event[\"name\"]==\"GameStartEvent\"):\n",
    "            lvlCode = event[\"levelCode\"]\n",
    "            print(event[\"name\"])\n",
    "        if(event[\"name\"]==\"LevelChangedEvent\"):\n",
    "            start = event[\"createdAt\"]\n",
    "            if(event[\"levelName\"]==\"LevelTraining(Clone)\" or event[\"levelName\"]==\"Level1(Clone)\"):\n",
    "                ignore=True\n",
    "            else:\n",
    "                if lvlCode.startswith(\"1\") and nLevels<3 or lvlCode.startswith(\"2\") and nLevels>=3:\n",
    "                    scenario=\"1\"\n",
    "                else:\n",
    "                    scenario = \"0\"\n",
    "                levelname=event[\"levelName\"][5:7]+\"_\"+scenario\n",
    "\n",
    "        if(event[\"name\"]==\"LevelCompletedEvent\"):\n",
    "            end = event[\"createdAt\"]\n",
    "            if(not ignore):\n",
    "                levelLengths.update({levelname:(end-start)})\n",
    "                nLevels+=1\n",
    "            ignore = False\n",
    "            end = 0\n",
    "            start = 0\n",
    "    if(len(levelLengths)>6):\n",
    "        return \"error, list too long\"   \n",
    "    if(lvlCode==None):\n",
    "        print(\"error no level code was found\")\n",
    "        return None\n",
    "    print(lvlCode,levelLengths)\n",
    "    levelLengths.update({\"condition\":lvlCode})\n",
    "    return levelLengths\n",
    "#leveltimes(file)"
   ]
  },
  {
   "cell_type": "code",
   "execution_count": 83,
   "metadata": {},
   "outputs": [
    {
     "name": "stdout",
     "output_type": "stream",
     "text": [
      "GameStartEvent\n",
      "2bbb {'2B_0': 16.66149999999999, '3B_0': 86.19530000000003, '4B_0': 89.75999999999993, '2A_1': 20.865999999999985, '3A_1': 19.052999999999997, '4A_1': 62.266999999999825}\n",
      "GameStartEvent\n",
      "1bbb {'2B_1': 73.42359999999996, '3B_1': 358.8229, '4B_1': 276.486, '2A_0': 89.21100000000001, '3A_0': 101.55300000000011, '4A_0': 45.92899999999986}\n",
      "GameStartEvent\n",
      "2aaa {'2A_0': 41.594799999999964, '3A_0': 34.315300000000036, '4A_0': 49.269499999999994, '2B_1': 48.49940000000004, '3B_1': 68.1413, '4B_1': 247.32049999999992}\n",
      "GameStartEvent\n",
      "1aaa {'2A_1': 52.07130000000001, '3A_1': 52.49959999999999, '4A_1': 308.67499999999995, '2B_0': 16.525999999999954, '3B_0': 59.05579999999998, '4B_0': 67.923}\n",
      "      2A_0     2A_1     2B_0     2B_1      3A_0     3A_1     3B_0      3B_1  \\\n",
      "0      NaN  20.8660  16.6615      NaN       NaN  19.0530  86.1953       NaN   \n",
      "0  89.2110      NaN      NaN  73.4236  101.5530      NaN      NaN  358.8229   \n",
      "0  41.5948      NaN      NaN  48.4994   34.3153      NaN      NaN   68.1413   \n",
      "0      NaN  52.0713  16.5260      NaN       NaN  52.4996  59.0558       NaN   \n",
      "\n",
      "      4A_0     4A_1    4B_0      4B_1 condition  \n",
      "0      NaN   62.267  89.760       NaN      2bbb  \n",
      "0  45.9290      NaN     NaN  276.4860      1bbb  \n",
      "0  49.2695      NaN     NaN  247.3205      2aaa  \n",
      "0      NaN  308.675  67.923       NaN      1aaa  \n"
     ]
    }
   ],
   "source": [
    "import pandas as pd\n",
    "\n",
    "frame = pd.DataFrame()\n",
    "for i in json_files:\n",
    "    file = open(\"./results/\"+i)\n",
    "    lis = leveltimes(file)\n",
    "    nframe = pd.DataFrame([lis])\n",
    "    frame=frame.append(nframe)\n",
    "frame=frame.sort_index(axis=1)\n",
    "print(frame)\n"
   ]
  },
  {
   "cell_type": "code",
   "execution_count": 84,
   "metadata": {},
   "outputs": [
    {
     "name": "stdout",
     "output_type": "stream",
     "text": [
      "[65.40289999999999, 36.46865, 16.59374999999997, 60.9615, 67.93415000000007, 35.77629999999999, 72.62555, 213.4821, 47.59924999999993, 185.4709999999999, 78.84149999999997, 261.90324999999996] [23.80810000000002, 15.602650000000011, 0.06775000000001796, 12.462099999999962, 33.61885000000004, 16.723299999999995, 13.569750000000028, 145.34079999999997, 1.6702500000000668, 123.20400000000006, 10.918499999999966, 14.582750000000033] ['2A_0', '2A_1', '2B_0', '2B_1', '3A_0', '3A_1', '3B_0', '3B_1', '4A_0', '4A_1', '4B_0', '4B_1', 'condition']\n"
     ]
    },
    {
     "data": {
      "image/png": "[encoded data removed]",
      "text/plain": [
       "<Figure size 432x288 with 1 Axes>"
      ]
     },
     "metadata": {
      "needs_background": "light"
     },
     "output_type": "display_data"
    },
    {
     "data": {
      "text/plain": [
       "<Figure size 432x288 with 0 Axes>"
      ]
     },
     "metadata": {},
     "output_type": "display_data"
    }
   ],
   "source": [
    "#Average Time Condition 1 vs Condition 2\n",
    "import matplotlib.pyplot as plt\n",
    "import numpy as np\n",
    "\n",
    "\n",
    "row_averages=frame.mean(axis=0).to_list()\n",
    "row_errors=frame.sem(axis=0).to_list()\n",
    "print(row_averages,row_errors,frame.columns.to_list())\n",
    "\n",
    "color=[\"red\" if x.endswith(\"1\") else \"blue\" for x in frame.columns.to_list()]\n",
    "plt.bar(frame.columns.to_list()[0:-1],row_averages,yerr=row_errors,alpha=0.5,align=\"center\",color=color)\n",
    "plt.xticks(rotation=30)\n",
    "plt.title(\"Comparing Level Times By Condition\")\n",
    "plt.xlabel(\"Levels and Condition\")\n",
    "plt.ylabel(\"Completion Time\")\n",
    "plt.show()\n",
    "plt.savefig(\"level_by_condition.png\")\n",
    "\n"
   ]
  },
  {
   "cell_type": "code",
   "execution_count": 85,
   "metadata": {},
   "outputs": [],
   "source": [
    "#By condition"
   ]
  },
  {
   "cell_type": "code",
   "execution_count": 86,
   "metadata": {},
   "outputs": [
    {
     "name": "stdout",
     "output_type": "stream",
     "text": [
      "58.16618333333332 132.34379999999996 ['2A_0', '2B_0', '3A_0', '3B_0', '4A_0', '4B_0'] ['2A_1', '2B_1', '3A_1', '3B_1', '4A_1', '4B_1']\n"
     ]
    },
    {
     "data": {
      "image/png": "[encoded data removed]",
      "text/plain": [
       "<Figure size 432x288 with 1 Axes>"
      ]
     },
     "metadata": {
      "needs_background": "light"
     },
     "output_type": "display_data"
    },
    {
     "data": {
      "text/plain": [
       "<Figure size 432x288 with 0 Axes>"
      ]
     },
     "metadata": {},
     "output_type": "display_data"
    }
   ],
   "source": [
    "import numpy as np\n",
    "condition1=[x for x in frame.columns.to_list() if x.endswith(\"0\")]\n",
    "condition2=[x for x in frame.columns.to_list() if x.endswith(\"1\")]\n",
    "\n",
    "values1=np.mean([frame[x].mean() for x in condition1])\n",
    "values2=np.mean([frame[x].mean() for x in condition2])\n",
    "\n",
    "err1 = np.std([frame[x].mean() for x in condition1],ddof=1)/np.sqrt(len([frame[x].mean() for x in condition1]))\n",
    "err2 = np.std([frame[x].mean() for x in condition2],ddof=1)/np.sqrt(len([frame[x].mean() for x in condition2]))\n",
    "\n",
    "print(values1,values2,condition1,condition2)\n",
    "\n",
    "\n",
    "plt.bar([\"Condition 1\",\"Condition 2\"],[values1,values2],yerr=[err1,err2],alpha=0.5,align=\"center\")\n",
    "plt.xticks(rotation=30)\n",
    "plt.title(\"Levels by Condition\")\n",
    "plt.xlabel(\"Condition\")\n",
    "plt.ylable(\"Completion Time\")\n",
    "plt.show()\n",
    "plt.savefig(\"level_by_condition.png\")"
   ]
  },
  {
   "cell_type": "code",
   "execution_count": null,
   "metadata": {},
   "outputs": [],
   "source": [
    "#Confidence By Condition\n",
    "\n",
    "\n",
    "\n",
    "#Accuracy By Condition"
   ]
  },
  {
   "cell_type": "markdown",
   "metadata": {},
   "source": []
  }
 ],
 "metadata": {
  "interpreter": {
   "hash": "2c3b6c56d26d7d22d8f0140f07961317be386ffe2494ca83cdbfc9f1fb8e124b"
  },
  "kernelspec": {
   "display_name": "Python 3.7.1 64-bit ('base': conda)",
   "language": "python",
   "name": "python3"
  },
  "language_info": {
   "codemirror_mode": {
    "name": "ipython",
    "version": 3
   },
   "file_extension": ".py",
   "mimetype": "text/x-python",
   "name": "python",
   "nbconvert_exporter": "python",
   "pygments_lexer": "ipython3",
   "version": "3.7.1"
  },
  "orig_nbformat": 4
 },
 "nbformat": 4,
 "nbformat_minor": 2
}
